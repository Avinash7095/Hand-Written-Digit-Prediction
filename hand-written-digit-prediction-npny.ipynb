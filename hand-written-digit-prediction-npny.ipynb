{
 "cells": [
  {
   "cell_type": "markdown",
   "id": "900c7586",
   "metadata": {
    "id": "EZJjqTXeGoGR",
    "papermill": {
     "duration": 0.012042,
     "end_time": "2024-06-28T16:36:50.014854",
     "exception": false,
     "start_time": "2024-06-28T16:36:50.002812",
     "status": "completed"
    },
    "tags": []
   },
   "source": [
    "# New Section"
   ]
  },
  {
   "cell_type": "markdown",
   "id": "f4acf0a4",
   "metadata": {
    "id": "dxxzGDG0GqxU",
    "papermill": {
     "duration": 0.010864,
     "end_time": "2024-06-28T16:36:50.037369",
     "exception": false,
     "start_time": "2024-06-28T16:36:50.026505",
     "status": "completed"
    },
    "tags": []
   },
   "source": [
    "# Hand Written Digit Prediction-Classification Analysis"
   ]
  },
  {
   "cell_type": "markdown",
   "id": "1320f119",
   "metadata": {
    "id": "AawUCmhVG1tD",
    "papermill": {
     "duration": 0.010534,
     "end_time": "2024-06-28T16:36:50.059157",
     "exception": false,
     "start_time": "2024-06-28T16:36:50.048623",
     "status": "completed"
    },
    "tags": []
   },
   "source": [
    "The digits dataset consists of 8x8 pixel image of digits.The images attribute of dataset stores 8x8 arrays of grayscale values for each image.We will use these arrays to visualize the first 4 images.The target attribute of the dataset stores the digit each image represents"
   ]
  },
  {
   "cell_type": "markdown",
   "id": "4197e151",
   "metadata": {
    "id": "lOG69NslHfzJ",
    "papermill": {
     "duration": 0.011045,
     "end_time": "2024-06-28T16:36:50.081478",
     "exception": false,
     "start_time": "2024-06-28T16:36:50.070433",
     "status": "completed"
    },
    "tags": []
   },
   "source": [
    "# Import Library"
   ]
  },
  {
   "cell_type": "code",
   "execution_count": 1,
   "id": "de06be5c",
   "metadata": {
    "execution": {
     "iopub.execute_input": "2024-06-28T16:36:50.105841Z",
     "iopub.status.busy": "2024-06-28T16:36:50.105394Z",
     "iopub.status.idle": "2024-06-28T16:36:50.929428Z",
     "shell.execute_reply": "2024-06-28T16:36:50.928509Z"
    },
    "id": "qd5ilESgHmPQ",
    "papermill": {
     "duration": 0.839373,
     "end_time": "2024-06-28T16:36:50.932076",
     "exception": false,
     "start_time": "2024-06-28T16:36:50.092703",
     "status": "completed"
    },
    "tags": []
   },
   "outputs": [],
   "source": [
    "import pandas as pd"
   ]
  },
  {
   "cell_type": "code",
   "execution_count": 2,
   "id": "708c375c",
   "metadata": {
    "execution": {
     "iopub.execute_input": "2024-06-28T16:36:50.956784Z",
     "iopub.status.busy": "2024-06-28T16:36:50.956280Z",
     "iopub.status.idle": "2024-06-28T16:36:50.960844Z",
     "shell.execute_reply": "2024-06-28T16:36:50.959874Z"
    },
    "id": "HovLAt2lHr4E",
    "papermill": {
     "duration": 0.019266,
     "end_time": "2024-06-28T16:36:50.963091",
     "exception": false,
     "start_time": "2024-06-28T16:36:50.943825",
     "status": "completed"
    },
    "tags": []
   },
   "outputs": [],
   "source": [
    "import numpy as np"
   ]
  },
  {
   "cell_type": "code",
   "execution_count": 3,
   "id": "d120fffd",
   "metadata": {
    "execution": {
     "iopub.execute_input": "2024-06-28T16:36:50.986639Z",
     "iopub.status.busy": "2024-06-28T16:36:50.986235Z",
     "iopub.status.idle": "2024-06-28T16:36:50.990837Z",
     "shell.execute_reply": "2024-06-28T16:36:50.989894Z"
    },
    "id": "whblThWGHwhf",
    "papermill": {
     "duration": 0.01875,
     "end_time": "2024-06-28T16:36:50.992944",
     "exception": false,
     "start_time": "2024-06-28T16:36:50.974194",
     "status": "completed"
    },
    "tags": []
   },
   "outputs": [],
   "source": [
    "import matplotlib.pyplot as plt"
   ]
  },
  {
   "cell_type": "markdown",
   "id": "0c72c82f",
   "metadata": {
    "id": "Kn-UelZvH-fc",
    "papermill": {
     "duration": 0.010828,
     "end_time": "2024-06-28T16:36:51.014926",
     "exception": false,
     "start_time": "2024-06-28T16:36:51.004098",
     "status": "completed"
    },
    "tags": []
   },
   "source": [
    "# Import Data"
   ]
  },
  {
   "cell_type": "code",
   "execution_count": 4,
   "id": "10b670e2",
   "metadata": {
    "execution": {
     "iopub.execute_input": "2024-06-28T16:36:51.040270Z",
     "iopub.status.busy": "2024-06-28T16:36:51.039384Z",
     "iopub.status.idle": "2024-06-28T16:36:52.209138Z",
     "shell.execute_reply": "2024-06-28T16:36:52.208069Z"
    },
    "id": "pbGO6n68ICvq",
    "papermill": {
     "duration": 1.184964,
     "end_time": "2024-06-28T16:36:52.211800",
     "exception": false,
     "start_time": "2024-06-28T16:36:51.026836",
     "status": "completed"
    },
    "tags": []
   },
   "outputs": [],
   "source": [
    "from sklearn.datasets import load_digits"
   ]
  },
  {
   "cell_type": "code",
   "execution_count": 5,
   "id": "3b10651b",
   "metadata": {
    "execution": {
     "iopub.execute_input": "2024-06-28T16:36:52.236744Z",
     "iopub.status.busy": "2024-06-28T16:36:52.235989Z",
     "iopub.status.idle": "2024-06-28T16:36:52.263804Z",
     "shell.execute_reply": "2024-06-28T16:36:52.262643Z"
    },
    "id": "wOO7hMNwINc9",
    "papermill": {
     "duration": 0.0434,
     "end_time": "2024-06-28T16:36:52.266554",
     "exception": false,
     "start_time": "2024-06-28T16:36:52.223154",
     "status": "completed"
    },
    "tags": []
   },
   "outputs": [],
   "source": [
    "df=load_digits()"
   ]
  },
  {
   "cell_type": "code",
   "execution_count": 6,
   "id": "9605a43b",
   "metadata": {
    "execution": {
     "iopub.execute_input": "2024-06-28T16:36:52.292529Z",
     "iopub.status.busy": "2024-06-28T16:36:52.291695Z",
     "iopub.status.idle": "2024-06-28T16:36:52.774244Z",
     "shell.execute_reply": "2024-06-28T16:36:52.773185Z"
    },
    "id": "tSevlCxgIayi",
    "outputId": "ed65446b-d0fe-4abd-9d57-aa27f29aecd1",
    "papermill": {
     "duration": 0.49809,
     "end_time": "2024-06-28T16:36:52.776654",
     "exception": false,
     "start_time": "2024-06-28T16:36:52.278564",
     "status": "completed"
    },
    "tags": []
   },
   "outputs": [
    {
     "data": {
      "image/png": "[encoded data removed]",
      "text/plain": [
       "<Figure size 1000x300 with 4 Axes>"
      ]
     },
     "metadata": {},
     "output_type": "display_data"
    }
   ],
   "source": [
    "_,axes=plt.subplots(nrows=1,ncols=4,figsize=(10,3))\n",
    "for ax,image,label in zip(axes,df.images,df.target):\n",
    "  ax.set_axis_off()\n",
    "  ax.imshow(image,cmap=plt.cm.gray_r,interpolation='nearest')\n",
    "  ax.set_title('Training:%i'%label)"
   ]
  },
  {
   "cell_type": "markdown",
   "id": "271af88c",
   "metadata": {
    "id": "ZpQOhNfrJIuO",
    "papermill": {
     "duration": 0.011021,
     "end_time": "2024-06-28T16:36:52.799371",
     "exception": false,
     "start_time": "2024-06-28T16:36:52.788350",
     "status": "completed"
    },
    "tags": []
   },
   "source": [
    "#Data Preprocessing"
   ]
  },
  {
   "cell_type": "markdown",
   "id": "a1fa6927",
   "metadata": {
    "id": "YXGhmVl4X2u4",
    "papermill": {
     "duration": 0.011327,
     "end_time": "2024-06-28T16:36:52.822073",
     "exception": false,
     "start_time": "2024-06-28T16:36:52.810746",
     "status": "completed"
    },
    "tags": []
   },
   "source": [
    "Flatten Image"
   ]
  },
  {
   "cell_type": "markdown",
   "id": "de687742",
   "metadata": {
    "id": "imyYLSQJZeSX",
    "papermill": {
     "duration": 0.011564,
     "end_time": "2024-06-28T16:36:52.845342",
     "exception": false,
     "start_time": "2024-06-28T16:36:52.833778",
     "status": "completed"
    },
    "tags": []
   },
   "source": [
    "8x8 Image"
   ]
  },
  {
   "cell_type": "markdown",
   "id": "85ce7090",
   "metadata": {
    "id": "r3yG3VdaZjf2",
    "papermill": {
     "duration": 0.012174,
     "end_time": "2024-06-28T16:36:52.869608",
     "exception": false,
     "start_time": "2024-06-28T16:36:52.857434",
     "status": "completed"
    },
    "tags": []
   },
   "source": [
    "![Screenshot 2024-06-28 203126.png](data:image/png;base64,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)"
   ]
  },
  {
   "cell_type": "markdown",
   "id": "fe0dee6e",
   "metadata": {
    "id": "hCL7zsysaDl7",
    "papermill": {
     "duration": 0.011382,
     "end_time": "2024-06-28T16:36:52.892555",
     "exception": false,
     "start_time": "2024-06-28T16:36:52.881173",
     "status": "completed"
    },
    "tags": []
   },
   "source": [
    "Flatten Image"
   ]
  },
  {
   "cell_type": "markdown",
   "id": "96867991",
   "metadata": {
    "id": "_bRW8G_laJMS",
    "papermill": {
     "duration": 0.011466,
     "end_time": "2024-06-28T16:36:52.915648",
     "exception": false,
     "start_time": "2024-06-28T16:36:52.904182",
     "status": "completed"
    },
    "tags": []
   },
   "source": [
    "![Screenshot 2024-06-28 204347.png](data:image/png;base64,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)"
   ]
  },
  {
   "cell_type": "code",
   "execution_count": 7,
   "id": "718f346f",
   "metadata": {
    "execution": {
     "iopub.execute_input": "2024-06-28T16:36:52.941304Z",
     "iopub.status.busy": "2024-06-28T16:36:52.940353Z",
     "iopub.status.idle": "2024-06-28T16:36:52.947173Z",
     "shell.execute_reply": "2024-06-28T16:36:52.946175Z"
    },
    "id": "0MEwJsDbaS8k",
    "outputId": "91b6091b-9769-450a-b0b8-66fc54b5b68f",
    "papermill": {
     "duration": 0.022358,
     "end_time": "2024-06-28T16:36:52.949603",
     "exception": false,
     "start_time": "2024-06-28T16:36:52.927245",
     "status": "completed"
    },
    "tags": []
   },
   "outputs": [
    {
     "data": {
      "text/plain": [
       "(1797, 8, 8)"
      ]
     },
     "execution_count": 7,
     "metadata": {},
     "output_type": "execute_result"
    }
   ],
   "source": [
    "df.images.shape"
   ]
  },
  {
   "cell_type": "code",
   "execution_count": 8,
   "id": "f04e4353",
   "metadata": {
    "execution": {
     "iopub.execute_input": "2024-06-28T16:36:52.975658Z",
     "iopub.status.busy": "2024-06-28T16:36:52.974902Z",
     "iopub.status.idle": "2024-06-28T16:36:52.982290Z",
     "shell.execute_reply": "2024-06-28T16:36:52.981332Z"
    },
    "id": "xiFM5QSFabcY",
    "outputId": "0012a3da-2f86-43bd-8bc5-0dd98123e400",
    "papermill": {
     "duration": 0.022857,
     "end_time": "2024-06-28T16:36:52.984422",
     "exception": false,
     "start_time": "2024-06-28T16:36:52.961565",
     "status": "completed"
    },
    "tags": []
   },
   "outputs": [
    {
     "data": {
      "text/plain": [
       "array([[ 0.,  0.,  5., 13.,  9.,  1.,  0.,  0.],\n",
       "       [ 0.,  0., 13., 15., 10., 15.,  5.,  0.],\n",
       "       [ 0.,  3., 15.,  2.,  0., 11.,  8.,  0.],\n",
       "       [ 0.,  4., 12.,  0.,  0.,  8.,  8.,  0.],\n",
       "       [ 0.,  5.,  8.,  0.,  0.,  9.,  8.,  0.],\n",
       "       [ 0.,  4., 11.,  0.,  1., 12.,  7.,  0.],\n",
       "       [ 0.,  2., 14.,  5., 10., 12.,  0.,  0.],\n",
       "       [ 0.,  0.,  6., 13., 10.,  0.,  0.,  0.]])"
      ]
     },
     "execution_count": 8,
     "metadata": {},
     "output_type": "execute_result"
    }
   ],
   "source": [
    "df.images[0]"
   ]
  },
  {
   "cell_type": "code",
   "execution_count": 9,
   "id": "b286e522",
   "metadata": {
    "execution": {
     "iopub.execute_input": "2024-06-28T16:36:53.011333Z",
     "iopub.status.busy": "2024-06-28T16:36:53.010403Z",
     "iopub.status.idle": "2024-06-28T16:36:53.017269Z",
     "shell.execute_reply": "2024-06-28T16:36:53.016246Z"
    },
    "id": "KYyaIu3HalE4",
    "outputId": "51b422f8-746e-4787-ca5b-24c403f6218e",
    "papermill": {
     "duration": 0.022741,
     "end_time": "2024-06-28T16:36:53.019512",
     "exception": false,
     "start_time": "2024-06-28T16:36:52.996771",
     "status": "completed"
    },
    "tags": []
   },
   "outputs": [
    {
     "data": {
      "text/plain": [
       "(8, 8)"
      ]
     },
     "execution_count": 9,
     "metadata": {},
     "output_type": "execute_result"
    }
   ],
   "source": [
    "df.images[0].shape"
   ]
  },
  {
   "cell_type": "code",
   "execution_count": 10,
   "id": "f0a7b594",
   "metadata": {
    "execution": {
     "iopub.execute_input": "2024-06-28T16:36:53.046548Z",
     "iopub.status.busy": "2024-06-28T16:36:53.045608Z",
     "iopub.status.idle": "2024-06-28T16:36:53.052221Z",
     "shell.execute_reply": "2024-06-28T16:36:53.051271Z"
    },
    "id": "2ID5bDXtap6Q",
    "outputId": "033cc409-7022-49de-ec91-f1d12dd09dc1",
    "papermill": {
     "duration": 0.02245,
     "end_time": "2024-06-28T16:36:53.054676",
     "exception": false,
     "start_time": "2024-06-28T16:36:53.032226",
     "status": "completed"
    },
    "tags": []
   },
   "outputs": [
    {
     "data": {
      "text/plain": [
       "1797"
      ]
     },
     "execution_count": 10,
     "metadata": {},
     "output_type": "execute_result"
    }
   ],
   "source": [
    "len(df.images)"
   ]
  },
  {
   "cell_type": "markdown",
   "id": "75038532",
   "metadata": {
    "id": "fnqrHQI3Zovd",
    "papermill": {
     "duration": 0.012516,
     "end_time": "2024-06-28T16:36:53.080147",
     "exception": false,
     "start_time": "2024-06-28T16:36:53.067631",
     "status": "completed"
    },
    "tags": []
   },
   "source": []
  },
  {
   "cell_type": "code",
   "execution_count": 11,
   "id": "4686fa29",
   "metadata": {
    "execution": {
     "iopub.execute_input": "2024-06-28T16:36:53.108327Z",
     "iopub.status.busy": "2024-06-28T16:36:53.107341Z",
     "iopub.status.idle": "2024-06-28T16:36:53.112535Z",
     "shell.execute_reply": "2024-06-28T16:36:53.111514Z"
    },
    "id": "mxXO2423az-J",
    "papermill": {
     "duration": 0.02164,
     "end_time": "2024-06-28T16:36:53.114685",
     "exception": false,
     "start_time": "2024-06-28T16:36:53.093045",
     "status": "completed"
    },
    "tags": []
   },
   "outputs": [],
   "source": [
    "n_samples=len(df.images)\n",
    "data=df.images.reshape((n_samples,-1))"
   ]
  },
  {
   "cell_type": "code",
   "execution_count": 12,
   "id": "61b83430",
   "metadata": {
    "execution": {
     "iopub.execute_input": "2024-06-28T16:36:53.142163Z",
     "iopub.status.busy": "2024-06-28T16:36:53.141295Z",
     "iopub.status.idle": "2024-06-28T16:36:53.148964Z",
     "shell.execute_reply": "2024-06-28T16:36:53.147877Z"
    },
    "id": "X1z9a8Ata8I3",
    "outputId": "ae8abf71-fd81-4de5-a34f-4ca26707ce21",
    "papermill": {
     "duration": 0.024116,
     "end_time": "2024-06-28T16:36:53.151364",
     "exception": false,
     "start_time": "2024-06-28T16:36:53.127248",
     "status": "completed"
    },
    "tags": []
   },
   "outputs": [
    {
     "data": {
      "text/plain": [
       "array([ 0.,  0.,  5., 13.,  9.,  1.,  0.,  0.,  0.,  0., 13., 15., 10.,\n",
       "       15.,  5.,  0.,  0.,  3., 15.,  2.,  0., 11.,  8.,  0.,  0.,  4.,\n",
       "       12.,  0.,  0.,  8.,  8.,  0.,  0.,  5.,  8.,  0.,  0.,  9.,  8.,\n",
       "        0.,  0.,  4., 11.,  0.,  1., 12.,  7.,  0.,  0.,  2., 14.,  5.,\n",
       "       10., 12.,  0.,  0.,  0.,  0.,  6., 13., 10.,  0.,  0.,  0.])"
      ]
     },
     "execution_count": 12,
     "metadata": {},
     "output_type": "execute_result"
    }
   ],
   "source": [
    "data[0]"
   ]
  },
  {
   "cell_type": "code",
   "execution_count": 13,
   "id": "506b2c5f",
   "metadata": {
    "execution": {
     "iopub.execute_input": "2024-06-28T16:36:53.179191Z",
     "iopub.status.busy": "2024-06-28T16:36:53.178785Z",
     "iopub.status.idle": "2024-06-28T16:36:53.185674Z",
     "shell.execute_reply": "2024-06-28T16:36:53.184662Z"
    },
    "id": "js2VgzwVbDTb",
    "outputId": "56f0992f-2e98-4b97-a4c1-2e5b31bfb709",
    "papermill": {
     "duration": 0.023547,
     "end_time": "2024-06-28T16:36:53.187860",
     "exception": false,
     "start_time": "2024-06-28T16:36:53.164313",
     "status": "completed"
    },
    "tags": []
   },
   "outputs": [
    {
     "data": {
      "text/plain": [
       "(64,)"
      ]
     },
     "execution_count": 13,
     "metadata": {},
     "output_type": "execute_result"
    }
   ],
   "source": [
    "data[0].shape"
   ]
  },
  {
   "cell_type": "code",
   "execution_count": 14,
   "id": "cde500eb",
   "metadata": {
    "execution": {
     "iopub.execute_input": "2024-06-28T16:36:53.215657Z",
     "iopub.status.busy": "2024-06-28T16:36:53.215269Z",
     "iopub.status.idle": "2024-06-28T16:36:53.221772Z",
     "shell.execute_reply": "2024-06-28T16:36:53.220755Z"
    },
    "id": "HJ0jky1vbI7l",
    "outputId": "066c34ba-0c8d-418d-9927-8cec58de37cd",
    "papermill": {
     "duration": 0.023194,
     "end_time": "2024-06-28T16:36:53.224079",
     "exception": false,
     "start_time": "2024-06-28T16:36:53.200885",
     "status": "completed"
    },
    "tags": []
   },
   "outputs": [
    {
     "data": {
      "text/plain": [
       "(1797, 64)"
      ]
     },
     "execution_count": 14,
     "metadata": {},
     "output_type": "execute_result"
    }
   ],
   "source": [
    "data.shape"
   ]
  },
  {
   "cell_type": "markdown",
   "id": "5d23c9c6",
   "metadata": {
    "id": "MguhyFhqbQAo",
    "papermill": {
     "duration": 0.013674,
     "end_time": "2024-06-28T16:36:53.251540",
     "exception": false,
     "start_time": "2024-06-28T16:36:53.237866",
     "status": "completed"
    },
    "tags": []
   },
   "source": [
    "# Scaling Image Data"
   ]
  },
  {
   "cell_type": "code",
   "execution_count": 15,
   "id": "68ff0627",
   "metadata": {
    "execution": {
     "iopub.execute_input": "2024-06-28T16:36:53.280274Z",
     "iopub.status.busy": "2024-06-28T16:36:53.279864Z",
     "iopub.status.idle": "2024-06-28T16:36:53.286765Z",
     "shell.execute_reply": "2024-06-28T16:36:53.285834Z"
    },
    "id": "CuBrZ6-NbWzI",
    "outputId": "d50e2ce1-068e-4d92-ce34-257d20224e9a",
    "papermill": {
     "duration": 0.02387,
     "end_time": "2024-06-28T16:36:53.289032",
     "exception": false,
     "start_time": "2024-06-28T16:36:53.265162",
     "status": "completed"
    },
    "tags": []
   },
   "outputs": [
    {
     "data": {
      "text/plain": [
       "0.0"
      ]
     },
     "execution_count": 15,
     "metadata": {},
     "output_type": "execute_result"
    }
   ],
   "source": [
    "data.min()"
   ]
  },
  {
   "cell_type": "code",
   "execution_count": 16,
   "id": "33a8d3f5",
   "metadata": {
    "execution": {
     "iopub.execute_input": "2024-06-28T16:36:53.318467Z",
     "iopub.status.busy": "2024-06-28T16:36:53.318047Z",
     "iopub.status.idle": "2024-06-28T16:36:53.324976Z",
     "shell.execute_reply": "2024-06-28T16:36:53.323987Z"
    },
    "id": "zBCfMV56ba5E",
    "outputId": "c19a7369-8bb8-419e-97ff-4bf2d7c4dd5b",
    "papermill": {
     "duration": 0.024307,
     "end_time": "2024-06-28T16:36:53.327144",
     "exception": false,
     "start_time": "2024-06-28T16:36:53.302837",
     "status": "completed"
    },
    "tags": []
   },
   "outputs": [
    {
     "data": {
      "text/plain": [
       "16.0"
      ]
     },
     "execution_count": 16,
     "metadata": {},
     "output_type": "execute_result"
    }
   ],
   "source": [
    "data.max()"
   ]
  },
  {
   "cell_type": "code",
   "execution_count": 17,
   "id": "cb2a2d8e",
   "metadata": {
    "execution": {
     "iopub.execute_input": "2024-06-28T16:36:53.357318Z",
     "iopub.status.busy": "2024-06-28T16:36:53.356358Z",
     "iopub.status.idle": "2024-06-28T16:36:53.361379Z",
     "shell.execute_reply": "2024-06-28T16:36:53.360381Z"
    },
    "id": "X7Bz_nVvbeFi",
    "papermill": {
     "duration": 0.022534,
     "end_time": "2024-06-28T16:36:53.363623",
     "exception": false,
     "start_time": "2024-06-28T16:36:53.341089",
     "status": "completed"
    },
    "tags": []
   },
   "outputs": [],
   "source": [
    "data=data/16"
   ]
  },
  {
   "cell_type": "code",
   "execution_count": 18,
   "id": "ba645fe5",
   "metadata": {
    "execution": {
     "iopub.execute_input": "2024-06-28T16:36:53.393346Z",
     "iopub.status.busy": "2024-06-28T16:36:53.392945Z",
     "iopub.status.idle": "2024-06-28T16:36:53.399897Z",
     "shell.execute_reply": "2024-06-28T16:36:53.398941Z"
    },
    "id": "7R2j3gf3bjbR",
    "outputId": "3b76629b-67f5-4d0b-caa6-078e32566db0",
    "papermill": {
     "duration": 0.024162,
     "end_time": "2024-06-28T16:36:53.401998",
     "exception": false,
     "start_time": "2024-06-28T16:36:53.377836",
     "status": "completed"
    },
    "tags": []
   },
   "outputs": [
    {
     "data": {
      "text/plain": [
       "0.0"
      ]
     },
     "execution_count": 18,
     "metadata": {},
     "output_type": "execute_result"
    }
   ],
   "source": [
    "data.min()"
   ]
  },
  {
   "cell_type": "code",
   "execution_count": 19,
   "id": "a86ea3c8",
   "metadata": {
    "execution": {
     "iopub.execute_input": "2024-06-28T16:36:53.432929Z",
     "iopub.status.busy": "2024-06-28T16:36:53.431866Z",
     "iopub.status.idle": "2024-06-28T16:36:53.439070Z",
     "shell.execute_reply": "2024-06-28T16:36:53.438054Z"
    },
    "id": "2afyjb6mdq-p",
    "outputId": "49c9ad70-9841-4704-fcd3-45aef482a9a8",
    "papermill": {
     "duration": 0.024897,
     "end_time": "2024-06-28T16:36:53.441198",
     "exception": false,
     "start_time": "2024-06-28T16:36:53.416301",
     "status": "completed"
    },
    "tags": []
   },
   "outputs": [
    {
     "data": {
      "text/plain": [
       "1.0"
      ]
     },
     "execution_count": 19,
     "metadata": {},
     "output_type": "execute_result"
    }
   ],
   "source": [
    "data.max()"
   ]
  },
  {
   "cell_type": "code",
   "execution_count": 20,
   "id": "112ad060",
   "metadata": {
    "execution": {
     "iopub.execute_input": "2024-06-28T16:36:53.471742Z",
     "iopub.status.busy": "2024-06-28T16:36:53.470862Z",
     "iopub.status.idle": "2024-06-28T16:36:53.478118Z",
     "shell.execute_reply": "2024-06-28T16:36:53.477144Z"
    },
    "id": "d1IgFUMidvwJ",
    "outputId": "ec353902-f5f2-4680-fff1-4acc36d6fad1",
    "papermill": {
     "duration": 0.024934,
     "end_time": "2024-06-28T16:36:53.480430",
     "exception": false,
     "start_time": "2024-06-28T16:36:53.455496",
     "status": "completed"
    },
    "tags": []
   },
   "outputs": [
    {
     "data": {
      "text/plain": [
       "array([0.    , 0.    , 0.3125, 0.8125, 0.5625, 0.0625, 0.    , 0.    ,\n",
       "       0.    , 0.    , 0.8125, 0.9375, 0.625 , 0.9375, 0.3125, 0.    ,\n",
       "       0.    , 0.1875, 0.9375, 0.125 , 0.    , 0.6875, 0.5   , 0.    ,\n",
       "       0.    , 0.25  , 0.75  , 0.    , 0.    , 0.5   , 0.5   , 0.    ,\n",
       "       0.    , 0.3125, 0.5   , 0.    , 0.    , 0.5625, 0.5   , 0.    ,\n",
       "       0.    , 0.25  , 0.6875, 0.    , 0.0625, 0.75  , 0.4375, 0.    ,\n",
       "       0.    , 0.125 , 0.875 , 0.3125, 0.625 , 0.75  , 0.    , 0.    ,\n",
       "       0.    , 0.    , 0.375 , 0.8125, 0.625 , 0.    , 0.    , 0.    ])"
      ]
     },
     "execution_count": 20,
     "metadata": {},
     "output_type": "execute_result"
    }
   ],
   "source": [
    "data[0]"
   ]
  },
  {
   "cell_type": "markdown",
   "id": "2b83bff7",
   "metadata": {
    "id": "NlZGSHfFd0Sa",
    "papermill": {
     "duration": 0.014385,
     "end_time": "2024-06-28T16:36:53.509526",
     "exception": false,
     "start_time": "2024-06-28T16:36:53.495141",
     "status": "completed"
    },
    "tags": []
   },
   "source": [
    "#Train Test Split Data"
   ]
  },
  {
   "cell_type": "code",
   "execution_count": 21,
   "id": "d0d6cc14",
   "metadata": {
    "execution": {
     "iopub.execute_input": "2024-06-28T16:36:53.540625Z",
     "iopub.status.busy": "2024-06-28T16:36:53.540191Z",
     "iopub.status.idle": "2024-06-28T16:36:53.627164Z",
     "shell.execute_reply": "2024-06-28T16:36:53.626154Z"
    },
    "id": "DUmmnieoe49M",
    "papermill": {
     "duration": 0.105783,
     "end_time": "2024-06-28T16:36:53.629899",
     "exception": false,
     "start_time": "2024-06-28T16:36:53.524116",
     "status": "completed"
    },
    "tags": []
   },
   "outputs": [],
   "source": [
    "from sklearn.model_selection import train_test_split"
   ]
  },
  {
   "cell_type": "code",
   "execution_count": 22,
   "id": "a9614b12",
   "metadata": {
    "execution": {
     "iopub.execute_input": "2024-06-28T16:36:53.661142Z",
     "iopub.status.busy": "2024-06-28T16:36:53.660355Z",
     "iopub.status.idle": "2024-06-28T16:36:53.667325Z",
     "shell.execute_reply": "2024-06-28T16:36:53.666325Z"
    },
    "id": "0rfQwi54gWlq",
    "papermill": {
     "duration": 0.025377,
     "end_time": "2024-06-28T16:36:53.669986",
     "exception": false,
     "start_time": "2024-06-28T16:36:53.644609",
     "status": "completed"
    },
    "tags": []
   },
   "outputs": [],
   "source": [
    "X_train,X_test,y_train,y_test=train_test_split(data,df.target,test_size=0.3)"
   ]
  },
  {
   "cell_type": "code",
   "execution_count": 23,
   "id": "cc3d0fbf",
   "metadata": {
    "execution": {
     "iopub.execute_input": "2024-06-28T16:36:53.702416Z",
     "iopub.status.busy": "2024-06-28T16:36:53.701266Z",
     "iopub.status.idle": "2024-06-28T16:36:53.709172Z",
     "shell.execute_reply": "2024-06-28T16:36:53.708134Z"
    },
    "id": "xuTwSKf9hxby",
    "outputId": "581f39fe-f966-4e48-fca2-e63d67c497ec",
    "papermill": {
     "duration": 0.026518,
     "end_time": "2024-06-28T16:36:53.711560",
     "exception": false,
     "start_time": "2024-06-28T16:36:53.685042",
     "status": "completed"
    },
    "tags": []
   },
   "outputs": [
    {
     "data": {
      "text/plain": [
       "((1257, 64), (540, 64), (1257,), (540,))"
      ]
     },
     "execution_count": 23,
     "metadata": {},
     "output_type": "execute_result"
    }
   ],
   "source": [
    "X_train.shape,X_test.shape,y_train.shape,y_test.shape"
   ]
  },
  {
   "cell_type": "markdown",
   "id": "4ee9b2e3",
   "metadata": {
    "id": "U7e53Qy-iCl3",
    "papermill": {
     "duration": 0.014043,
     "end_time": "2024-06-28T16:36:53.795647",
     "exception": false,
     "start_time": "2024-06-28T16:36:53.781604",
     "status": "completed"
    },
    "tags": []
   },
   "source": [
    "# Random Forest Model"
   ]
  },
  {
   "cell_type": "code",
   "execution_count": 24,
   "id": "24470145",
   "metadata": {
    "execution": {
     "iopub.execute_input": "2024-06-28T16:36:53.826991Z",
     "iopub.status.busy": "2024-06-28T16:36:53.826278Z",
     "iopub.status.idle": "2024-06-28T16:36:54.051126Z",
     "shell.execute_reply": "2024-06-28T16:36:54.050162Z"
    },
    "id": "BEdytKRCiISu",
    "papermill": {
     "duration": 0.243122,
     "end_time": "2024-06-28T16:36:54.053740",
     "exception": false,
     "start_time": "2024-06-28T16:36:53.810618",
     "status": "completed"
    },
    "tags": []
   },
   "outputs": [],
   "source": [
    "from sklearn.ensemble import RandomForestClassifier"
   ]
  },
  {
   "cell_type": "code",
   "execution_count": 25,
   "id": "34d979c5",
   "metadata": {
    "execution": {
     "iopub.execute_input": "2024-06-28T16:36:54.085895Z",
     "iopub.status.busy": "2024-06-28T16:36:54.085401Z",
     "iopub.status.idle": "2024-06-28T16:36:54.091036Z",
     "shell.execute_reply": "2024-06-28T16:36:54.089856Z"
    },
    "id": "Yd709UxniM9F",
    "papermill": {
     "duration": 0.024253,
     "end_time": "2024-06-28T16:36:54.093239",
     "exception": false,
     "start_time": "2024-06-28T16:36:54.068986",
     "status": "completed"
    },
    "tags": []
   },
   "outputs": [],
   "source": [
    "rf=RandomForestClassifier()"
   ]
  },
  {
   "cell_type": "code",
   "execution_count": 26,
   "id": "9636c77e",
   "metadata": {
    "execution": {
     "iopub.execute_input": "2024-06-28T16:36:54.125507Z",
     "iopub.status.busy": "2024-06-28T16:36:54.124747Z",
     "iopub.status.idle": "2024-06-28T16:36:54.560141Z",
     "shell.execute_reply": "2024-06-28T16:36:54.559113Z"
    },
    "id": "SxfzPiO4ikog",
    "outputId": "0d0a9152-4aa2-4ea6-f04d-39687863b7ce",
    "papermill": {
     "duration": 0.45409,
     "end_time": "2024-06-28T16:36:54.562431",
     "exception": false,
     "start_time": "2024-06-28T16:36:54.108341",
     "status": "completed"
    },
    "tags": []
   },
   "outputs": [
    {
     "data": {
      "text/html": [
       "<style>#sk-container-id-1 {color: black;background-color: white;}#sk-container-id-1 pre{padding: 0;}#sk-container-id-1 div.sk-toggleable {background-color: white;}#sk-container-id-1 label.sk-toggleable__label {cursor: pointer;display: block;width: 100%;margin-bottom: 0;padding: 0.3em;box-sizing: border-box;text-align: center;}#sk-container-id-1 label.sk-toggleable__label-arrow:before {content: \"▸\";float: left;margin-right: 0.25em;color: #696969;}#sk-container-id-1 label.sk-toggleable__label-arrow:hover:before {color: black;}#sk-container-id-1 div.sk-estimator:hover label.sk-toggleable__label-arrow:before {color: black;}#sk-container-id-1 div.sk-toggleable__content {max-height: 0;max-width: 0;overflow: hidden;text-align: left;background-color: #f0f8ff;}#sk-container-id-1 div.sk-toggleable__content pre {margin: 0.2em;color: black;border-radius: 0.25em;background-color: #f0f8ff;}#sk-container-id-1 input.sk-toggleable__control:checked~div.sk-toggleable__content {max-height: 200px;max-width: 100%;overflow: auto;}#sk-container-id-1 input.sk-toggleable__control:checked~label.sk-toggleable__label-arrow:before {content: \"▾\";}#sk-container-id-1 div.sk-estimator input.sk-toggleable__control:checked~label.sk-toggleable__label {background-color: #d4ebff;}#sk-container-id-1 div.sk-label input.sk-toggleable__control:checked~label.sk-toggleable__label {background-color: #d4ebff;}#sk-container-id-1 input.sk-hidden--visually {border: 0;clip: rect(1px 1px 1px 1px);clip: rect(1px, 1px, 1px, 1px);height: 1px;margin: -1px;overflow: hidden;padding: 0;position: absolute;width: 1px;}#sk-container-id-1 div.sk-estimator {font-family: monospace;background-color: #f0f8ff;border: 1px dotted black;border-radius: 0.25em;box-sizing: border-box;margin-bottom: 0.5em;}#sk-container-id-1 div.sk-estimator:hover {background-color: #d4ebff;}#sk-container-id-1 div.sk-parallel-item::after {content: \"\";width: 100%;border-bottom: 1px solid gray;flex-grow: 1;}#sk-container-id-1 div.sk-label:hover label.sk-toggleable__label {background-color: #d4ebff;}#sk-container-id-1 div.sk-serial::before {content: \"\";position: absolute;border-left: 1px solid gray;box-sizing: border-box;top: 0;bottom: 0;left: 50%;z-index: 0;}#sk-container-id-1 div.sk-serial {display: flex;flex-direction: column;align-items: center;background-color: white;padding-right: 0.2em;padding-left: 0.2em;position: relative;}#sk-container-id-1 div.sk-item {position: relative;z-index: 1;}#sk-container-id-1 div.sk-parallel {display: flex;align-items: stretch;justify-content: center;background-color: white;position: relative;}#sk-container-id-1 div.sk-item::before, #sk-container-id-1 div.sk-parallel-item::before {content: \"\";position: absolute;border-left: 1px solid gray;box-sizing: border-box;top: 0;bottom: 0;left: 50%;z-index: -1;}#sk-container-id-1 div.sk-parallel-item {display: flex;flex-direction: column;z-index: 1;position: relative;background-color: white;}#sk-container-id-1 div.sk-parallel-item:first-child::after {align-self: flex-end;width: 50%;}#sk-container-id-1 div.sk-parallel-item:last-child::after {align-self: flex-start;width: 50%;}#sk-container-id-1 div.sk-parallel-item:only-child::after {width: 0;}#sk-container-id-1 div.sk-dashed-wrapped {border: 1px dashed gray;margin: 0 0.4em 0.5em 0.4em;box-sizing: border-box;padding-bottom: 0.4em;background-color: white;}#sk-container-id-1 div.sk-label label {font-family: monospace;font-weight: bold;display: inline-block;line-height: 1.2em;}#sk-container-id-1 div.sk-label-container {text-align: center;}#sk-container-id-1 div.sk-container {/* jupyter's `normalize.less` sets `[hidden] { display: none; }` but bootstrap.min.css set `[hidden] { display: none !important; }` so we also need the `!important` here to be able to override the default hidden behavior on the sphinx rendered scikit-learn.org. See: https://github.com/scikit-learn/scikit-learn/issues/21755 */display: inline-block !important;position: relative;}#sk-container-id-1 div.sk-text-repr-fallback {display: none;}</style><div id=\"sk-container-id-1\" class=\"sk-top-container\"><div class=\"sk-text-repr-fallback\"><pre>RandomForestClassifier()</pre><b>In a Jupyter environment, please rerun this cell to show the HTML representation or trust the notebook. <br />On GitHub, the HTML representation is unable to render, please try loading this page with nbviewer.org.</b></div><div class=\"sk-container\" hidden><div class=\"sk-item\"><div class=\"sk-estimator sk-toggleable\"><input class=\"sk-toggleable__control sk-hidden--visually\" id=\"sk-estimator-id-1\" type=\"checkbox\" checked><label for=\"sk-estimator-id-1\" class=\"sk-toggleable__label sk-toggleable__label-arrow\">RandomForestClassifier</label><div class=\"sk-toggleable__content\"><pre>RandomForestClassifier()</pre></div></div></div></div></div>"
      ],
      "text/plain": [
       "RandomForestClassifier()"
      ]
     },
     "execution_count": 26,
     "metadata": {},
     "output_type": "execute_result"
    }
   ],
   "source": [
    "rf.fit(X_train,y_train)"
   ]
  },
  {
   "cell_type": "markdown",
   "id": "fa5aff1a",
   "metadata": {
    "id": "bE898bkAi8eW",
    "papermill": {
     "duration": 0.015294,
     "end_time": "2024-06-28T16:36:54.593261",
     "exception": false,
     "start_time": "2024-06-28T16:36:54.577967",
     "status": "completed"
    },
    "tags": []
   },
   "source": [
    "#Predict Test Data"
   ]
  },
  {
   "cell_type": "code",
   "execution_count": 27,
   "id": "239a27d0",
   "metadata": {
    "execution": {
     "iopub.execute_input": "2024-06-28T16:36:54.625941Z",
     "iopub.status.busy": "2024-06-28T16:36:54.624912Z",
     "iopub.status.idle": "2024-06-28T16:36:54.646942Z",
     "shell.execute_reply": "2024-06-28T16:36:54.646018Z"
    },
    "id": "Yx1DTZ3fjCvA",
    "papermill": {
     "duration": 0.041046,
     "end_time": "2024-06-28T16:36:54.649525",
     "exception": false,
     "start_time": "2024-06-28T16:36:54.608479",
     "status": "completed"
    },
    "tags": []
   },
   "outputs": [],
   "source": [
    "y_pred=rf.predict(X_test)"
   ]
  },
  {
   "cell_type": "code",
   "execution_count": 28,
   "id": "e4b28909",
   "metadata": {
    "execution": {
     "iopub.execute_input": "2024-06-28T16:36:54.682975Z",
     "iopub.status.busy": "2024-06-28T16:36:54.682030Z",
     "iopub.status.idle": "2024-06-28T16:36:54.691358Z",
     "shell.execute_reply": "2024-06-28T16:36:54.690416Z"
    },
    "id": "uLNMLJ5fjQ6A",
    "outputId": "2880579f-7e3d-46f8-c9e3-18b71aefc20c",
    "papermill": {
     "duration": 0.028504,
     "end_time": "2024-06-28T16:36:54.693702",
     "exception": false,
     "start_time": "2024-06-28T16:36:54.665198",
     "status": "completed"
    },
    "tags": []
   },
   "outputs": [
    {
     "data": {
      "text/plain": [
       "array([5, 0, 0, 4, 1, 3, 9, 3, 3, 7, 6, 3, 5, 0, 9, 3, 0, 3, 6, 4, 7, 1,\n",
       "       8, 7, 6, 4, 8, 0, 3, 9, 3, 6, 4, 9, 3, 3, 5, 7, 4, 2, 3, 7, 5, 7,\n",
       "       2, 4, 6, 6, 5, 3, 8, 5, 3, 3, 0, 7, 3, 3, 0, 4, 3, 0, 3, 9, 1, 3,\n",
       "       9, 6, 8, 1, 7, 6, 8, 6, 6, 6, 9, 7, 7, 6, 4, 9, 8, 7, 5, 7, 9, 8,\n",
       "       8, 4, 4, 3, 1, 9, 0, 9, 6, 7, 7, 3, 8, 2, 2, 8, 4, 3, 0, 3, 8, 6,\n",
       "       2, 7, 6, 9, 5, 6, 9, 0, 3, 7, 0, 4, 6, 4, 7, 2, 8, 4, 8, 0, 8, 0,\n",
       "       7, 4, 5, 4, 2, 5, 4, 0, 0, 6, 9, 1, 9, 5, 8, 9, 5, 8, 1, 3, 4, 9,\n",
       "       4, 4, 0, 9, 0, 8, 3, 6, 6, 3, 1, 1, 3, 7, 0, 3, 2, 8, 2, 8, 3, 6,\n",
       "       7, 6, 1, 1, 3, 4, 3, 5, 8, 6, 5, 2, 4, 6, 7, 5, 5, 2, 9, 3, 7, 4,\n",
       "       9, 3, 1, 2, 8, 0, 7, 9, 9, 1, 4, 9, 9, 7, 9, 7, 6, 5, 2, 8, 8, 2,\n",
       "       9, 3, 9, 8, 5, 6, 6, 8, 1, 0, 1, 7, 7, 1, 2, 6, 0, 4, 5, 0, 5, 0,\n",
       "       9, 8, 3, 2, 7, 1, 8, 7, 8, 0, 6, 9, 6, 2, 5, 4, 1, 1, 3, 7, 5, 9,\n",
       "       4, 4, 3, 1, 0, 1, 9, 5, 3, 9, 1, 8, 4, 0, 4, 4, 8, 2, 0, 0, 6, 3,\n",
       "       1, 3, 9, 1, 7, 2, 6, 2, 4, 4, 9, 9, 9, 7, 7, 0, 3, 1, 1, 9, 3, 0,\n",
       "       5, 8, 4, 1, 5, 1, 3, 8, 4, 1, 7, 4, 6, 1, 6, 9, 4, 3, 3, 9, 2, 4,\n",
       "       4, 1, 1, 6, 2, 0, 5, 6, 6, 5, 3, 1, 6, 7, 2, 9, 3, 4, 2, 5, 0, 0,\n",
       "       9, 6, 3, 6, 2, 3, 8, 6, 6, 5, 5, 8, 2, 2, 6, 7, 3, 8, 1, 3, 9, 0,\n",
       "       7, 1, 4, 4, 5, 5, 7, 4, 5, 8, 1, 5, 8, 7, 1, 7, 0, 1, 8, 2, 7, 1,\n",
       "       4, 5, 5, 3, 8, 1, 3, 6, 6, 6, 1, 0, 0, 9, 5, 0, 5, 1, 2, 0, 4, 5,\n",
       "       4, 5, 6, 4, 2, 3, 2, 5, 9, 7, 9, 1, 3, 7, 1, 9, 9, 5, 7, 0, 2, 5,\n",
       "       8, 2, 4, 7, 6, 2, 4, 1, 1, 3, 2, 1, 8, 7, 2, 7, 9, 9, 4, 1, 9, 9,\n",
       "       8, 5, 7, 6, 4, 9, 6, 7, 1, 0, 5, 4, 5, 1, 3, 2, 9, 8, 1, 7, 6, 7,\n",
       "       8, 0, 2, 5, 6, 6, 9, 0, 9, 8, 2, 0, 0, 1, 0, 9, 1, 1, 2, 9, 7, 7,\n",
       "       9, 1, 7, 8, 0, 3, 4, 2, 2, 3, 8, 5, 2, 3, 0, 8, 2, 5, 7, 1, 9, 1,\n",
       "       5, 8, 7, 2, 7, 2, 7, 2, 5, 7, 5, 2])"
      ]
     },
     "execution_count": 28,
     "metadata": {},
     "output_type": "execute_result"
    }
   ],
   "source": [
    "y_pred"
   ]
  },
  {
   "cell_type": "markdown",
   "id": "6e6fef00",
   "metadata": {
    "id": "kt7TJUx0j8Ta",
    "papermill": {
     "duration": 0.01552,
     "end_time": "2024-06-28T16:36:54.724790",
     "exception": false,
     "start_time": "2024-06-28T16:36:54.709270",
     "status": "completed"
    },
    "tags": []
   },
   "source": [
    "Model Accuracy"
   ]
  },
  {
   "cell_type": "code",
   "execution_count": 29,
   "id": "f1e7784f",
   "metadata": {
    "execution": {
     "iopub.execute_input": "2024-06-28T16:36:54.758324Z",
     "iopub.status.busy": "2024-06-28T16:36:54.757498Z",
     "iopub.status.idle": "2024-06-28T16:36:54.762424Z",
     "shell.execute_reply": "2024-06-28T16:36:54.761394Z"
    },
    "id": "q1AzvuaNkAFs",
    "papermill": {
     "duration": 0.024235,
     "end_time": "2024-06-28T16:36:54.764606",
     "exception": false,
     "start_time": "2024-06-28T16:36:54.740371",
     "status": "completed"
    },
    "tags": []
   },
   "outputs": [],
   "source": [
    "from sklearn.metrics import confusion_matrix,classification_report"
   ]
  },
  {
   "cell_type": "code",
   "execution_count": 30,
   "id": "021b476d",
   "metadata": {
    "execution": {
     "iopub.execute_input": "2024-06-28T16:36:54.798244Z",
     "iopub.status.busy": "2024-06-28T16:36:54.797400Z",
     "iopub.status.idle": "2024-06-28T16:36:54.806062Z",
     "shell.execute_reply": "2024-06-28T16:36:54.805113Z"
    },
    "id": "uhzlKIB9kMG3",
    "outputId": "c09ab899-1a48-4deb-b185-af88cc3bd30e",
    "papermill": {
     "duration": 0.028004,
     "end_time": "2024-06-28T16:36:54.808263",
     "exception": false,
     "start_time": "2024-06-28T16:36:54.780259",
     "status": "completed"
    },
    "tags": []
   },
   "outputs": [
    {
     "data": {
      "text/plain": [
       "array([[49,  0,  0,  0,  1,  0,  0,  0,  0,  0],\n",
       "       [ 0, 54,  0,  0,  0,  0,  0,  0,  0,  0],\n",
       "       [ 0,  1, 48,  0,  0,  0,  0,  0,  0,  0],\n",
       "       [ 0,  0,  0, 60,  0,  1,  0,  1,  0,  0],\n",
       "       [ 0,  0,  0,  0, 51,  0,  0,  1,  0,  0],\n",
       "       [ 0,  0,  0,  0,  0, 47,  0,  0,  0,  0],\n",
       "       [ 0,  0,  0,  0,  0,  1, 53,  0,  0,  0],\n",
       "       [ 0,  0,  0,  0,  0,  0,  0, 57,  0,  0],\n",
       "       [ 0,  2,  0,  0,  1,  1,  0,  0, 49,  0],\n",
       "       [ 0,  0,  0,  1,  0,  2,  0,  0,  0, 59]])"
      ]
     },
     "execution_count": 30,
     "metadata": {},
     "output_type": "execute_result"
    }
   ],
   "source": [
    "confusion_matrix(y_test,y_pred)"
   ]
  },
  {
   "cell_type": "code",
   "execution_count": 31,
   "id": "462b9226",
   "metadata": {
    "execution": {
     "iopub.execute_input": "2024-06-28T16:36:54.842255Z",
     "iopub.status.busy": "2024-06-28T16:36:54.841284Z",
     "iopub.status.idle": "2024-06-28T16:36:54.857935Z",
     "shell.execute_reply": "2024-06-28T16:36:54.856662Z"
    },
    "id": "Wxv75F9akU3_",
    "outputId": "690a99e1-a71f-437f-f7f9-23ef49fad2e7",
    "papermill": {
     "duration": 0.036237,
     "end_time": "2024-06-28T16:36:54.860192",
     "exception": false,
     "start_time": "2024-06-28T16:36:54.823955",
     "status": "completed"
    },
    "tags": []
   },
   "outputs": [
    {
     "name": "stdout",
     "output_type": "stream",
     "text": [
      "              precision    recall  f1-score   support\n",
      "\n",
      "           0       1.00      0.98      0.99        50\n",
      "           1       0.95      1.00      0.97        54\n",
      "           2       1.00      0.98      0.99        49\n",
      "           3       0.98      0.97      0.98        62\n",
      "           4       0.96      0.98      0.97        52\n",
      "           5       0.90      1.00      0.95        47\n",
      "           6       1.00      0.98      0.99        54\n",
      "           7       0.97      1.00      0.98        57\n",
      "           8       1.00      0.92      0.96        53\n",
      "           9       1.00      0.95      0.98        62\n",
      "\n",
      "    accuracy                           0.98       540\n",
      "   macro avg       0.98      0.98      0.98       540\n",
      "weighted avg       0.98      0.98      0.98       540\n",
      "\n"
     ]
    }
   ],
   "source": [
    "print(classification_report(y_test,y_pred))"
   ]
  }
 ],
 "metadata": {
  "colab": {
   "provenance": []
  },
  "kaggle": {
   "accelerator": "none",
   "dataSources": [],
   "isGpuEnabled": false,
   "isInternetEnabled": false,
   "language": "python",
   "sourceType": "notebook"
  },
  "kernelspec": {
   "display_name": "Python 3",
   "name": "python3"
  },
  "language_info": {
   "codemirror_mode": {
    "name": "ipython",
    "version": 3
   },
   "file_extension": ".py",
   "mimetype": "text/x-python",
   "name": "python",
   "nbconvert_exporter": "python",
   "pygments_lexer": "ipython3",
   "version": "3.10.13"
  },
  "papermill": {
   "default_parameters": {},
   "duration": 8.160894,
   "end_time": "2024-06-28T16:36:55.397306",
   "environment_variables": {},
   "exception": null,
   "input_path": "__notebook__.ipynb",
   "output_path": "__notebook__.ipynb",
   "parameters": {},
   "start_time": "2024-06-28T16:36:47.236412",
   "version": "2.5.0"
  }
 },
 "nbformat": 4,
 "nbformat_minor": 5
}
